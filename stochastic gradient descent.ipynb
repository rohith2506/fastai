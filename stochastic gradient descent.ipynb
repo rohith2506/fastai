{
 "cells": [
  {
   "cell_type": "code",
   "execution_count": 1,
   "metadata": {},
   "outputs": [],
   "source": [
    "from fastai.basics import *"
   ]
  },
  {
   "cell_type": "code",
   "execution_count": 3,
   "metadata": {},
   "outputs": [],
   "source": [
    "a = tensor(3., 2.)"
   ]
  },
  {
   "cell_type": "code",
   "execution_count": 4,
   "metadata": {},
   "outputs": [
    {
     "data": {
      "text/plain": [
       "tensor([3., 2.])"
      ]
     },
     "execution_count": 4,
     "metadata": {},
     "output_type": "execute_result"
    }
   ],
   "source": [
    "a"
   ]
  },
  {
   "cell_type": "code",
   "execution_count": 12,
   "metadata": {},
   "outputs": [],
   "source": [
    "x = torch.ones(n, 2)"
   ]
  },
  {
   "cell_type": "code",
   "execution_count": 13,
   "metadata": {},
   "outputs": [],
   "source": [
    "n =100"
   ]
  },
  {
   "cell_type": "code",
   "execution_count": 14,
   "metadata": {},
   "outputs": [
    {
     "data": {
      "text/plain": [
       "tensor([[1., 1.],\n",
       "        [1., 1.],\n",
       "        [1., 1.],\n",
       "        [1., 1.],\n",
       "        [1., 1.]])"
      ]
     },
     "execution_count": 14,
     "metadata": {},
     "output_type": "execute_result"
    }
   ],
   "source": [
    "x[:5]"
   ]
  },
  {
   "cell_type": "code",
   "execution_count": 24,
   "metadata": {},
   "outputs": [
    {
     "data": {
      "text/plain": [
       "<matplotlib.collections.PathCollection at 0x7f3f8e2eea58>"
      ]
     },
     "execution_count": 24,
     "metadata": {},
     "output_type": "execute_result"
    },
    {
     "data": {
      "image/png": "[encoded data removed]",
      "text/plain": [
       "<Figure size 432x288 with 1 Axes>"
      ]
     },
     "metadata": {
      "needs_background": "light"
     },
     "output_type": "display_data"
    }
   ],
   "source": [
    "plt.scatter(x[:, 0], x[:, 1])"
   ]
  },
  {
   "cell_type": "code",
   "execution_count": 20,
   "metadata": {},
   "outputs": [
    {
     "data": {
      "text/plain": [
       "tensor([-0.1659,  0.6103, -0.1206, -0.9170,  0.1143, -0.3117,  0.7663,  0.2800,\n",
       "        -0.7917, -0.1873,  0.2240,  0.2966, -0.7522, -0.0093, -0.9134,  0.3341,\n",
       "         0.7932, -0.2998, -0.0507, -0.0775,  0.9795, -0.4375, -0.2301,  0.5117,\n",
       "         0.8518,  0.9609, -0.6609,  0.8241, -0.1713, -0.0947, -0.8312,  0.0449,\n",
       "         0.1762,  0.2659, -0.5393, -0.4878,  0.6506, -0.0099, -0.8085, -0.6407,\n",
       "        -0.3230,  0.6156, -0.9911,  0.6045,  0.2238, -0.2638, -0.2392,  0.2501,\n",
       "         0.5601, -0.7354, -0.1564, -0.9729, -0.9248,  0.5180,  0.2107, -0.1421,\n",
       "        -0.7056, -0.1391,  0.4591,  0.8647, -0.1398,  0.1804, -0.3152,  0.6924,\n",
       "         0.3964, -0.4933, -0.0943,  0.7357,  0.7945,  0.7967,  0.9333,  0.5398,\n",
       "        -0.7290, -0.3094,  0.1803, -0.6329, -0.9899, -0.8975, -0.5418, -0.0136,\n",
       "        -0.7449,  0.4963, -0.5846, -0.6609, -0.1328, -0.8390, -0.4743, -0.7110,\n",
       "        -0.8629, -0.2369,  0.8345, -0.3375,  0.9860, -0.9732,  0.5562, -0.8010,\n",
       "        -0.9897,  0.3076, -0.8447, -0.9207])"
      ]
     },
     "execution_count": 20,
     "metadata": {},
     "output_type": "execute_result"
    }
   ],
   "source": [
    "x[:, 0].uniform_(-1.0, 1.0)"
   ]
  },
  {
   "cell_type": "code",
   "execution_count": 21,
   "metadata": {},
   "outputs": [
    {
     "data": {
      "text/plain": [
       "tensor([[-0.1659,  1.0000],\n",
       "        [ 0.6103,  1.0000],\n",
       "        [-0.1206,  1.0000],\n",
       "        [-0.9170,  1.0000],\n",
       "        [ 0.1143,  1.0000]])"
      ]
     },
     "execution_count": 21,
     "metadata": {},
     "output_type": "execute_result"
    }
   ],
   "source": [
    "x[:5]"
   ]
  },
  {
   "cell_type": "code",
   "execution_count": 23,
   "metadata": {},
   "outputs": [
    {
     "data": {
      "text/plain": [
       "tensor([ 0.7990, -0.9559, -0.0712,  0.9978,  0.6688, -0.5037,  0.6651,  0.1162,\n",
       "         0.6116,  0.9914, -0.7933, -0.6362, -0.6472,  0.8470, -0.9356,  0.3237,\n",
       "         0.4516,  0.5571,  0.6981,  0.4335, -0.5815, -0.3595, -0.4899,  0.2283,\n",
       "         0.0884, -0.6931,  0.4641, -0.8598,  0.1971, -0.7129, -0.2204,  0.6729,\n",
       "        -0.9294,  0.5759, -0.4784, -0.6338,  0.1661, -0.3362,  0.3828, -0.1567,\n",
       "        -0.4575, -0.0919, -0.4996,  0.7880, -0.8749, -0.9043, -0.9690, -0.0364,\n",
       "        -0.4667,  0.2621,  0.2349,  0.8277, -0.7087,  0.0829,  0.7047,  0.9581,\n",
       "        -0.7628, -0.4899, -0.2917,  0.2208,  0.7375, -0.2439,  0.6182, -0.6388,\n",
       "        -0.2234, -0.8822,  0.1627, -0.9549,  0.0147,  0.8423,  0.3465, -0.5449,\n",
       "         0.9103,  0.9636, -0.9117,  0.0506, -0.8912, -0.7403,  0.1485,  0.6851,\n",
       "        -0.9135,  0.6002, -0.2902, -0.5075,  0.5434, -0.9413, -0.4631,  0.1400,\n",
       "         0.8923,  0.9142,  0.0538,  0.8769,  0.1270, -0.7294, -0.5936, -0.8344,\n",
       "         0.2847, -0.6205, -0.0136,  0.0476])"
      ]
     },
     "execution_count": 23,
     "metadata": {},
     "output_type": "execute_result"
    }
   ],
   "source": [
    "x[:, 1].uniform_(-1.0, 1.0)"
   ]
  },
  {
   "cell_type": "code",
   "execution_count": 25,
   "metadata": {},
   "outputs": [],
   "source": [
    "y = x@a + torch.rand(n)"
   ]
  },
  {
   "cell_type": "code",
   "execution_count": 26,
   "metadata": {},
   "outputs": [
    {
     "data": {
      "text/plain": [
       "tensor([ 1.8182,  0.5741,  0.3466, -0.1665,  2.6566, -1.3978,  3.7745,  1.9868,\n",
       "        -0.7363,  1.9042, -0.5471, -0.1634, -3.4208,  1.9603, -4.3442,  2.3638,\n",
       "         3.6244,  0.9825,  1.5441,  1.3120,  2.0094, -1.8312, -1.0966,  1.9985,\n",
       "         2.8760,  1.7863, -0.6512,  0.8598,  0.6267, -0.9544, -2.4324,  2.4045,\n",
       "        -0.8686,  2.4636, -2.1316, -1.9868,  2.3506,  0.2962, -1.2919, -1.2863,\n",
       "        -1.1163,  1.6635, -3.2079,  4.1902, -0.2858, -1.9990, -2.3675,  0.7262,\n",
       "         1.2262, -1.4504,  0.5731, -0.3968, -3.9092,  1.9327,  2.7781,  2.4796,\n",
       "        -3.5402, -0.6753,  0.8079,  3.5073,  1.9609,  0.7703,  1.2539,  0.9847,\n",
       "         0.9073, -2.4915,  0.6886,  0.5584,  3.3112,  4.1298,  4.3027,  1.3532,\n",
       "         0.5061,  1.3395, -0.8132, -0.8438, -4.7447, -4.0411, -0.8623,  1.8546,\n",
       "        -3.7114,  3.3852, -1.6365, -2.3536,  0.7962, -3.4604, -2.2336, -1.7354,\n",
       "        -0.2626,  1.9868,  3.1244,  1.5736,  3.4407, -4.0146,  0.5427, -3.6858,\n",
       "        -1.4153, -0.0905, -1.9832, -2.6288])"
      ]
     },
     "execution_count": 26,
     "metadata": {},
     "output_type": "execute_result"
    }
   ],
   "source": [
    "y"
   ]
  },
  {
   "cell_type": "code",
   "execution_count": 31,
   "metadata": {},
   "outputs": [
    {
     "data": {
      "text/plain": [
       "<matplotlib.collections.PathCollection at 0x7f3f8dd95438>"
      ]
     },
     "execution_count": 31,
     "metadata": {},
     "output_type": "execute_result"
    },
    {
     "data": {
      "image/png": "[encoded data removed]",
      "text/plain": [
       "<Figure size 432x288 with 1 Axes>"
      ]
     },
     "metadata": {
      "needs_background": "light"
     },
     "output_type": "display_data"
    }
   ],
   "source": [
    "plt.scatter(x[:, 0], y)"
   ]
  },
  {
   "cell_type": "code",
   "execution_count": 32,
   "metadata": {},
   "outputs": [],
   "source": [
    "a = nn.Parameter(a)"
   ]
  },
  {
   "cell_type": "code",
   "execution_count": 33,
   "metadata": {},
   "outputs": [
    {
     "data": {
      "text/plain": [
       "Parameter containing:\n",
       "tensor([3., 2.], requires_grad=True)"
      ]
     },
     "execution_count": 33,
     "metadata": {},
     "output_type": "execute_result"
    }
   ],
   "source": [
    "a"
   ]
  },
  {
   "cell_type": "code",
   "execution_count": 50,
   "metadata": {},
   "outputs": [],
   "source": [
    "def update():\n",
    "    y_hat = x@a\n",
    "    loss = mse(y, y_hat)\n",
    "    if t % 10 == 0: print(loss)\n",
    "    loss.backward()\n",
    "    with torch.no_grad():\n",
    "        a.sub_(lr * a.grad)\n",
    "        a.grad.zero_()"
   ]
  },
  {
   "cell_type": "code",
   "execution_count": 51,
   "metadata": {},
   "outputs": [
    {
     "data": {
      "text/plain": [
       "tensor([0., 0.])"
      ]
     },
     "execution_count": 51,
     "metadata": {},
     "output_type": "execute_result"
    }
   ],
   "source": [
    "a.grad"
   ]
  },
  {
   "cell_type": "code",
   "execution_count": 54,
   "metadata": {},
   "outputs": [
    {
     "data": {
      "text/plain": [
       "Parameter containing:\n",
       "tensor([2.7907, 2.0702], requires_grad=True)"
      ]
     },
     "execution_count": 54,
     "metadata": {},
     "output_type": "execute_result"
    }
   ],
   "source": [
    "a"
   ]
  },
  {
   "cell_type": "code",
   "execution_count": 55,
   "metadata": {},
   "outputs": [],
   "source": [
    "def mse(y_hat, y): return ((y_hat - y) ** 2).mean()"
   ]
  },
  {
   "cell_type": "code",
   "execution_count": 56,
   "metadata": {},
   "outputs": [],
   "source": [
    "update()"
   ]
  },
  {
   "cell_type": "code",
   "execution_count": 57,
   "metadata": {},
   "outputs": [],
   "source": [
    "lr = 0.1"
   ]
  },
  {
   "cell_type": "code",
   "execution_count": 58,
   "metadata": {},
   "outputs": [
    {
     "name": "stdout",
     "output_type": "stream",
     "text": [
      "tensor(0.3195, grad_fn=<MeanBackward1>)\n",
      "tensor(0.3195, grad_fn=<MeanBackward1>)\n",
      "tensor(0.3195, grad_fn=<MeanBackward1>)\n",
      "tensor(0.3195, grad_fn=<MeanBackward1>)\n",
      "tensor(0.3195, grad_fn=<MeanBackward1>)\n",
      "tensor(0.3195, grad_fn=<MeanBackward1>)\n",
      "tensor(0.3195, grad_fn=<MeanBackward1>)\n",
      "tensor(0.3195, grad_fn=<MeanBackward1>)\n",
      "tensor(0.3195, grad_fn=<MeanBackward1>)\n",
      "tensor(0.3195, grad_fn=<MeanBackward1>)\n",
      "tensor(0.3195, grad_fn=<MeanBackward1>)\n",
      "tensor(0.3195, grad_fn=<MeanBackward1>)\n",
      "tensor(0.3195, grad_fn=<MeanBackward1>)\n",
      "tensor(0.3195, grad_fn=<MeanBackward1>)\n",
      "tensor(0.3195, grad_fn=<MeanBackward1>)\n",
      "tensor(0.3195, grad_fn=<MeanBackward1>)\n",
      "tensor(0.3195, grad_fn=<MeanBackward1>)\n",
      "tensor(0.3195, grad_fn=<MeanBackward1>)\n",
      "tensor(0.3195, grad_fn=<MeanBackward1>)\n",
      "tensor(0.3195, grad_fn=<MeanBackward1>)\n",
      "tensor(0.3195, grad_fn=<MeanBackward1>)\n",
      "tensor(0.3195, grad_fn=<MeanBackward1>)\n",
      "tensor(0.3195, grad_fn=<MeanBackward1>)\n",
      "tensor(0.3195, grad_fn=<MeanBackward1>)\n",
      "tensor(0.3195, grad_fn=<MeanBackward1>)\n",
      "tensor(0.3195, grad_fn=<MeanBackward1>)\n",
      "tensor(0.3195, grad_fn=<MeanBackward1>)\n",
      "tensor(0.3195, grad_fn=<MeanBackward1>)\n",
      "tensor(0.3195, grad_fn=<MeanBackward1>)\n",
      "tensor(0.3195, grad_fn=<MeanBackward1>)\n",
      "tensor(0.3195, grad_fn=<MeanBackward1>)\n",
      "tensor(0.3195, grad_fn=<MeanBackward1>)\n",
      "tensor(0.3195, grad_fn=<MeanBackward1>)\n",
      "tensor(0.3195, grad_fn=<MeanBackward1>)\n",
      "tensor(0.3195, grad_fn=<MeanBackward1>)\n",
      "tensor(0.3195, grad_fn=<MeanBackward1>)\n",
      "tensor(0.3195, grad_fn=<MeanBackward1>)\n",
      "tensor(0.3195, grad_fn=<MeanBackward1>)\n",
      "tensor(0.3195, grad_fn=<MeanBackward1>)\n",
      "tensor(0.3195, grad_fn=<MeanBackward1>)\n",
      "tensor(0.3195, grad_fn=<MeanBackward1>)\n",
      "tensor(0.3195, grad_fn=<MeanBackward1>)\n",
      "tensor(0.3195, grad_fn=<MeanBackward1>)\n",
      "tensor(0.3195, grad_fn=<MeanBackward1>)\n",
      "tensor(0.3195, grad_fn=<MeanBackward1>)\n",
      "tensor(0.3195, grad_fn=<MeanBackward1>)\n",
      "tensor(0.3195, grad_fn=<MeanBackward1>)\n",
      "tensor(0.3195, grad_fn=<MeanBackward1>)\n",
      "tensor(0.3195, grad_fn=<MeanBackward1>)\n",
      "tensor(0.3195, grad_fn=<MeanBackward1>)\n",
      "tensor(0.3195, grad_fn=<MeanBackward1>)\n",
      "tensor(0.3195, grad_fn=<MeanBackward1>)\n",
      "tensor(0.3195, grad_fn=<MeanBackward1>)\n",
      "tensor(0.3195, grad_fn=<MeanBackward1>)\n",
      "tensor(0.3195, grad_fn=<MeanBackward1>)\n",
      "tensor(0.3195, grad_fn=<MeanBackward1>)\n",
      "tensor(0.3195, grad_fn=<MeanBackward1>)\n",
      "tensor(0.3195, grad_fn=<MeanBackward1>)\n",
      "tensor(0.3195, grad_fn=<MeanBackward1>)\n",
      "tensor(0.3195, grad_fn=<MeanBackward1>)\n",
      "tensor(0.3195, grad_fn=<MeanBackward1>)\n",
      "tensor(0.3195, grad_fn=<MeanBackward1>)\n",
      "tensor(0.3195, grad_fn=<MeanBackward1>)\n",
      "tensor(0.3195, grad_fn=<MeanBackward1>)\n",
      "tensor(0.3195, grad_fn=<MeanBackward1>)\n",
      "tensor(0.3195, grad_fn=<MeanBackward1>)\n",
      "tensor(0.3195, grad_fn=<MeanBackward1>)\n",
      "tensor(0.3195, grad_fn=<MeanBackward1>)\n",
      "tensor(0.3195, grad_fn=<MeanBackward1>)\n",
      "tensor(0.3195, grad_fn=<MeanBackward1>)\n",
      "tensor(0.3195, grad_fn=<MeanBackward1>)\n",
      "tensor(0.3195, grad_fn=<MeanBackward1>)\n",
      "tensor(0.3195, grad_fn=<MeanBackward1>)\n",
      "tensor(0.3195, grad_fn=<MeanBackward1>)\n",
      "tensor(0.3195, grad_fn=<MeanBackward1>)\n",
      "tensor(0.3195, grad_fn=<MeanBackward1>)\n",
      "tensor(0.3195, grad_fn=<MeanBackward1>)\n",
      "tensor(0.3195, grad_fn=<MeanBackward1>)\n",
      "tensor(0.3195, grad_fn=<MeanBackward1>)\n",
      "tensor(0.3195, grad_fn=<MeanBackward1>)\n",
      "tensor(0.3195, grad_fn=<MeanBackward1>)\n",
      "tensor(0.3195, grad_fn=<MeanBackward1>)\n",
      "tensor(0.3195, grad_fn=<MeanBackward1>)\n",
      "tensor(0.3195, grad_fn=<MeanBackward1>)\n",
      "tensor(0.3195, grad_fn=<MeanBackward1>)\n",
      "tensor(0.3195, grad_fn=<MeanBackward1>)\n",
      "tensor(0.3195, grad_fn=<MeanBackward1>)\n",
      "tensor(0.3195, grad_fn=<MeanBackward1>)\n",
      "tensor(0.3195, grad_fn=<MeanBackward1>)\n",
      "tensor(0.3195, grad_fn=<MeanBackward1>)\n",
      "tensor(0.3195, grad_fn=<MeanBackward1>)\n",
      "tensor(0.3195, grad_fn=<MeanBackward1>)\n",
      "tensor(0.3195, grad_fn=<MeanBackward1>)\n",
      "tensor(0.3195, grad_fn=<MeanBackward1>)\n",
      "tensor(0.3195, grad_fn=<MeanBackward1>)\n",
      "tensor(0.3195, grad_fn=<MeanBackward1>)\n",
      "tensor(0.3195, grad_fn=<MeanBackward1>)\n",
      "tensor(0.3195, grad_fn=<MeanBackward1>)\n",
      "tensor(0.3195, grad_fn=<MeanBackward1>)\n",
      "tensor(0.3195, grad_fn=<MeanBackward1>)\n"
     ]
    }
   ],
   "source": [
    "for t in range(1000): update()"
   ]
  },
  {
   "cell_type": "code",
   "execution_count": 61,
   "metadata": {},
   "outputs": [
    {
     "data": {
      "text/plain": [
       "<matplotlib.collections.PathCollection at 0x7f3f8e256278>"
      ]
     },
     "execution_count": 61,
     "metadata": {},
     "output_type": "execute_result"
    },
    {
     "data": {
      "image/png": "[encoded data removed]",
      "text/plain": [
       "<Figure size 432x288 with 1 Axes>"
      ]
     },
     "metadata": {
      "needs_background": "light"
     },
     "output_type": "display_data"
    }
   ],
   "source": [
    "plt.scatter(x[:, 0], y)\n",
    "plt.scatter(x[:, 0], x@a)"
   ]
  },
  {
   "cell_type": "code",
   "execution_count": 60,
   "metadata": {},
   "outputs": [
    {
     "data": {
      "text/plain": [
       "<matplotlib.collections.PathCollection at 0x7f3f8e76d0b8>"
      ]
     },
     "execution_count": 60,
     "metadata": {},
     "output_type": "execute_result"
    },
    {
     "data": {
      "image/png": "[encoded data removed]",
      "text/plain": [
       "<Figure size 432x288 with 1 Axes>"
      ]
     },
     "metadata": {
      "needs_background": "light"
     },
     "output_type": "display_data"
    }
   ],
   "source": []
  },
  {
   "cell_type": "code",
   "execution_count": null,
   "metadata": {},
   "outputs": [],
   "source": []
  }
 ],
 "metadata": {
  "kernelspec": {
   "display_name": "Python 3",
   "language": "python",
   "name": "python3"
  },
  "language_info": {
   "codemirror_mode": {
    "name": "ipython",
    "version": 3
   },
   "file_extension": ".py",
   "mimetype": "text/x-python",
   "name": "python",
   "nbconvert_exporter": "python",
   "pygments_lexer": "ipython3",
   "version": "3.7.1"
  }
 },
 "nbformat": 4,
 "nbformat_minor": 2
}
